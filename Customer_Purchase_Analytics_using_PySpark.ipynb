{
  "nbformat": 4,
  "nbformat_minor": 0,
  "metadata": {
    "colab": {
      "provenance": [],
      "authorship_tag": "ABX9TyNEnQ3yJelk+WExFms5eoK5",
      "include_colab_link": true
    },
    "kernelspec": {
      "name": "python3",
      "display_name": "Python 3"
    },
    "language_info": {
      "name": "python"
    }
  },
  "cells": [
    {
      "cell_type": "markdown",
      "metadata": {
        "id": "view-in-github",
        "colab_type": "text"
      },
      "source": [
        "<a href=\"https://colab.research.google.com/github/DecodeTheCode-p/Customer-Purchase-Analytics-using-PySpark/blob/main/Customer_Purchase_Analytics_using_PySpark.ipynb\" target=\"_parent\"><img src=\"https://colab.research.google.com/assets/colab-badge.svg\" alt=\"Open In Colab\"/></a>"
      ]
    },
    {
      "cell_type": "markdown",
      "source": [
        "### **Customer Purchase Analytics using PySpark**\n",
        "\n",
        "**🧠 Objective:**\n",
        "\n",
        "Analyze a sample dataset of customer transactions to find:\n",
        "\n",
        "Total purchases per customer\n",
        "\n",
        "Most popular product\n",
        "\n",
        "Customers who spent more than a threshold\n",
        "\n"
      ],
      "metadata": {
        "id": "5sjwRnNfLeCz"
      }
    },
    {
      "cell_type": "code",
      "execution_count": 1,
      "metadata": {
        "id": "fUWXv2WKKaao"
      },
      "outputs": [],
      "source": [
        "\n",
        "\n",
        "import csv\n",
        "\n",
        "data = [\n",
        "    ['CustomerID', 'Product', 'Amount'],\n",
        "    ['C001', 'Laptop', '1000'],\n",
        "    ['C002', 'Mobile', '500'],\n",
        "    ['C001', 'Mouse', '50'],\n",
        "    ['C003', 'Keyboard', '75'],\n",
        "    ['C002', 'Laptop', '1000'],\n",
        "    ['C003', 'Mouse', '50'],\n",
        "    ['C004', 'Monitor', '150']\n",
        "]\n",
        "\n",
        "with open('Purchase.csv', 'w', newline='') as file:\n",
        "    writer = csv.writer(file)\n",
        "    writer.writerows(data)\n"
      ]
    },
    {
      "cell_type": "code",
      "source": [
        "from pyspark.sql import SparkSession\n",
        "from pyspark.sql.functions import sum, col, count\n",
        "\n",
        "# 1. Create a SparkSession\n",
        "spark = SparkSession.builder.appName(\"CustomerPurchaseAnalytics\").getOrCreate()\n",
        "\n",
        "# 2. Load CSV data into DataFrame\n",
        "df = spark.read.option(\"header\", True).option(\"inferSchema\", True).csv(\"/content/Purchase.csv\")\n",
        "\n",
        "# 3. Show the raw dataset\n",
        "print(\"Original Dataset:\")\n",
        "df.show()\n",
        "\n",
        "# 4. Total amount spent by each customer\n",
        "print(\"Total Amount Spent Per Customer:\")\n",
        "total_spent = df.groupBy(\"CustomerID\").agg(sum(\"Amount\").alias(\"TotalSpent\"))\n",
        "total_spent.show()\n",
        "\n",
        "# 5. Most popular product (by number of purchases)\n",
        "print(\"Most Popular Product:\")\n",
        "popular_products = df.groupBy(\"Product\").agg(count(\"*\").alias(\"Count\"))\n",
        "popular_products.orderBy(col(\"Count\").desc()).show(1)\n",
        "\n",
        "# 6. Customers who spent more than $100\n",
        "print(\"High-Value Customers (Spent > 100):\")\n",
        "high_value = total_spent.filter(col(\"TotalSpent\") > 100)\n",
        "high_value.show()\n",
        "\n",
        "# 7. Stop Spark Session\n",
        "spark.stop()\n"
      ],
      "metadata": {
        "colab": {
          "base_uri": "https://localhost:8080/"
        },
        "id": "iLGEBjdZKy0t",
        "outputId": "14aa5c1b-3011-4b24-8af3-135786cc44b7"
      },
      "execution_count": 3,
      "outputs": [
        {
          "output_type": "stream",
          "name": "stdout",
          "text": [
            "Original Dataset:\n",
            "+----------+--------+------+\n",
            "|CustomerID| Product|Amount|\n",
            "+----------+--------+------+\n",
            "|      C001|  Laptop|  1000|\n",
            "|      C002|  Mobile|   500|\n",
            "|      C001|   Mouse|    50|\n",
            "|      C003|Keyboard|    75|\n",
            "|      C002|  Laptop|  1000|\n",
            "|      C003|   Mouse|    50|\n",
            "|      C004| Monitor|   150|\n",
            "+----------+--------+------+\n",
            "\n",
            "Total Amount Spent Per Customer:\n",
            "+----------+----------+\n",
            "|CustomerID|TotalSpent|\n",
            "+----------+----------+\n",
            "|      C003|       125|\n",
            "|      C004|       150|\n",
            "|      C001|      1050|\n",
            "|      C002|      1500|\n",
            "+----------+----------+\n",
            "\n",
            "Most Popular Product:\n",
            "+-------+-----+\n",
            "|Product|Count|\n",
            "+-------+-----+\n",
            "| Laptop|    2|\n",
            "+-------+-----+\n",
            "only showing top 1 row\n",
            "\n",
            "High-Value Customers (Spent > 100):\n",
            "+----------+----------+\n",
            "|CustomerID|TotalSpent|\n",
            "+----------+----------+\n",
            "|      C003|       125|\n",
            "|      C004|       150|\n",
            "|      C001|      1050|\n",
            "|      C002|      1500|\n",
            "+----------+----------+\n",
            "\n"
          ]
        }
      ]
    }
  ]
}